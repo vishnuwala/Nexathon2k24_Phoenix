{
  "nbformat": 4,
  "nbformat_minor": 0,
  "metadata": {
    "colab": {
      "provenance": []
    },
    "kernelspec": {
      "name": "python3",
      "display_name": "Python 3"
    },
    "language_info": {
      "name": "python"
    }
  },
  "cells": [
    {
      "cell_type": "markdown",
      "source": [
        "***PROBLEM STATEMENT:***               \n",
        "The objective of this problem statement is to develop software application that generate a poster\n",
        "for any specified occasion based on the text input supplied by the user. The app may request from\n",
        "the user for the event title, venue, timing, etc. and prepare an appropriate poster with the help of\n",
        "AI. Use generative AI."
      ],
      "metadata": {
        "id": "XnehLLISlg57"
      }
    },
    {
      "cell_type": "code",
      "execution_count": null,
      "metadata": {
        "id": "FLmFQH_nkjyx"
      },
      "outputs": [],
      "source": []
    }
  ]
}